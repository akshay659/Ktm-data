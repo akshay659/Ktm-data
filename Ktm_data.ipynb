{
  "nbformat": 4,
  "nbformat_minor": 0,
  "metadata": {
    "colab": {
      "provenance": [],
      "authorship_tag": "ABX9TyMJ6m1frQ2wR4eQoKRWHTL+",
      "include_colab_link": true
    },
    "kernelspec": {
      "name": "python3",
      "display_name": "Python 3"
    },
    "language_info": {
      "name": "python"
    }
  },
  "cells": [
    {
      "cell_type": "markdown",
      "metadata": {
        "id": "view-in-github",
        "colab_type": "text"
      },
      "source": [
        "<a href=\"https://colab.research.google.com/github/akshay659/Ktm-data/blob/main/Ktm_data.ipynb\" target=\"_parent\"><img src=\"https://colab.research.google.com/assets/colab-badge.svg\" alt=\"Open In Colab\"/></a>"
      ]
    },
    {
      "cell_type": "code",
      "source": [
        "!pip install -U kaleido"
      ],
      "metadata": {
        "colab": {
          "base_uri": "https://localhost:8080/"
        },
        "id": "JlvtItfV9n3l",
        "outputId": "bd2c7742-9399-4eb5-d1dc-b69d125e2764"
      },
      "execution_count": 1,
      "outputs": [
        {
          "output_type": "stream",
          "name": "stdout",
          "text": [
            "Collecting kaleido\n",
            "  Downloading kaleido-0.2.1-py2.py3-none-manylinux1_x86_64.whl.metadata (15 kB)\n",
            "Downloading kaleido-0.2.1-py2.py3-none-manylinux1_x86_64.whl (79.9 MB)\n",
            "\u001b[2K   \u001b[90m━━━━━━━━━━━━━━━━━━━━━━━━━━━━━━━━━━━━━━━━\u001b[0m \u001b[32m79.9/79.9 MB\u001b[0m \u001b[31m7.2 MB/s\u001b[0m eta \u001b[36m0:00:00\u001b[0m\n",
            "\u001b[?25hInstalling collected packages: kaleido\n",
            "Successfully installed kaleido-0.2.1\n"
          ]
        }
      ]
    },
    {
      "cell_type": "code",
      "metadata": {
        "id": "cLuVnit67OGg"
      },
      "source": [
        "import pandas as pd\n",
        "import numpy as np\n",
        "import tensorflow as tf\n",
        "\n",
        "from sklearn.preprocessing import LabelEncoder\n",
        "\n",
        "from tensorflow.keras.models import Sequential\n",
        "from tensorflow.keras.layers import  Dense\n",
        "\n",
        "from sklearn.preprocessing import LabelEncoder\n",
        "from sklearn.model_selection import train_test_split\n",
        "\n",
        "import matplotlib.pyplot as plt\n"
      ],
      "execution_count": null,
      "outputs": []
    },
    {
      "cell_type": "code",
      "metadata": {
        "id": "D_AdC1sl72RT"
      },
      "source": [
        "df =pd. read_excel(\"ktm.xlsx\")"
      ],
      "execution_count": null,
      "outputs": []
    },
    {
      "cell_type": "code",
      "metadata": {
        "colab": {
          "base_uri": "https://localhost:8080/",
          "height": 206
        },
        "id": "ZLkg_Ev29CnV",
        "outputId": "ded932db-f4f7-4e37-c12b-4861d4a3d98c"
      },
      "source": [
        "df.head()"
      ],
      "execution_count": null,
      "outputs": [
        {
          "output_type": "execute_result",
          "data": {
            "text/html": [
              "<div>\n",
              "<style scoped>\n",
              "    .dataframe tbody tr th:only-of-type {\n",
              "        vertical-align: middle;\n",
              "    }\n",
              "\n",
              "    .dataframe tbody tr th {\n",
              "        vertical-align: top;\n",
              "    }\n",
              "\n",
              "    .dataframe thead th {\n",
              "        text-align: right;\n",
              "    }\n",
              "</style>\n",
              "<table border=\"1\" class=\"dataframe\">\n",
              "  <thead>\n",
              "    <tr style=\"text-align: right;\">\n",
              "      <th></th>\n",
              "      <th>ID</th>\n",
              "      <th>Age</th>\n",
              "      <th>Gender</th>\n",
              "      <th>Occupation</th>\n",
              "      <th>Phone Type</th>\n",
              "      <th>Current Bike</th>\n",
              "      <th>Relationship</th>\n",
              "      <th>Response</th>\n",
              "    </tr>\n",
              "  </thead>\n",
              "  <tbody>\n",
              "    <tr>\n",
              "      <th>0</th>\n",
              "      <td>1</td>\n",
              "      <td>53</td>\n",
              "      <td>Male</td>\n",
              "      <td>Professional</td>\n",
              "      <td>Average</td>\n",
              "      <td>180 to 220</td>\n",
              "      <td>Complicated</td>\n",
              "      <td>Not purchased</td>\n",
              "    </tr>\n",
              "    <tr>\n",
              "      <th>1</th>\n",
              "      <td>2</td>\n",
              "      <td>27</td>\n",
              "      <td>Female</td>\n",
              "      <td>Self Employed</td>\n",
              "      <td>Low End</td>\n",
              "      <td>No Bike</td>\n",
              "      <td>Single</td>\n",
              "      <td>Purchased</td>\n",
              "    </tr>\n",
              "    <tr>\n",
              "      <th>2</th>\n",
              "      <td>3</td>\n",
              "      <td>39</td>\n",
              "      <td>Female</td>\n",
              "      <td>Unemployed</td>\n",
              "      <td>Average</td>\n",
              "      <td>180 to 220</td>\n",
              "      <td>Married</td>\n",
              "      <td>Not purchased</td>\n",
              "    </tr>\n",
              "    <tr>\n",
              "      <th>3</th>\n",
              "      <td>4</td>\n",
              "      <td>20</td>\n",
              "      <td>Female</td>\n",
              "      <td>Unemployed</td>\n",
              "      <td>High End</td>\n",
              "      <td>No Bike</td>\n",
              "      <td>Married</td>\n",
              "      <td>Not purchased</td>\n",
              "    </tr>\n",
              "    <tr>\n",
              "      <th>4</th>\n",
              "      <td>5</td>\n",
              "      <td>29</td>\n",
              "      <td>Male</td>\n",
              "      <td>Student</td>\n",
              "      <td>Average</td>\n",
              "      <td>180 to 220</td>\n",
              "      <td>Complicated</td>\n",
              "      <td>Purchased</td>\n",
              "    </tr>\n",
              "  </tbody>\n",
              "</table>\n",
              "</div>"
            ],
            "text/plain": [
              "   ID  Age  Gender  ... Current Bike Relationship       Response\n",
              "0   1   53   Male   ...   180 to 220  Complicated  Not purchased\n",
              "1   2   27  Female  ...      No Bike       Single      Purchased\n",
              "2   3   39  Female  ...   180 to 220      Married  Not purchased\n",
              "3   4   20  Female  ...      No Bike      Married  Not purchased\n",
              "4   5   29   Male   ...   180 to 220  Complicated      Purchased\n",
              "\n",
              "[5 rows x 8 columns]"
            ]
          },
          "metadata": {},
          "execution_count": 7
        }
      ]
    },
    {
      "cell_type": "code",
      "metadata": {
        "id": "sf8rGi4J9GCf"
      },
      "source": [
        "le = LabelEncoder()"
      ],
      "execution_count": null,
      "outputs": []
    },
    {
      "cell_type": "code",
      "metadata": {
        "id": "6KZAXiU2-aXv"
      },
      "source": [
        "df['Gender'] = le.fit_transform(df['Gender'])\n",
        "df['Occupation'] = le.fit_transform(df['Occupation'])\n",
        "df['Phone Type'] = le.fit_transform(df['Phone Type'])\n",
        "df['Current Bike'] = le.fit_transform(df['Current Bike'])\n",
        "df['Relationship'] = le.fit_transform(df['Relationship'])\n",
        "df['Response'] = le.fit_transform(df['Response'])"
      ],
      "execution_count": null,
      "outputs": []
    },
    {
      "cell_type": "code",
      "metadata": {
        "id": "WUVX13Bt-R3M",
        "colab": {
          "base_uri": "https://localhost:8080/",
          "height": 206
        },
        "outputId": "84f1b764-dccd-4a52-abab-2186663d1325"
      },
      "source": [
        "df.head()"
      ],
      "execution_count": null,
      "outputs": [
        {
          "output_type": "execute_result",
          "data": {
            "text/html": [
              "<div>\n",
              "<style scoped>\n",
              "    .dataframe tbody tr th:only-of-type {\n",
              "        vertical-align: middle;\n",
              "    }\n",
              "\n",
              "    .dataframe tbody tr th {\n",
              "        vertical-align: top;\n",
              "    }\n",
              "\n",
              "    .dataframe thead th {\n",
              "        text-align: right;\n",
              "    }\n",
              "</style>\n",
              "<table border=\"1\" class=\"dataframe\">\n",
              "  <thead>\n",
              "    <tr style=\"text-align: right;\">\n",
              "      <th></th>\n",
              "      <th>ID</th>\n",
              "      <th>Age</th>\n",
              "      <th>Gender</th>\n",
              "      <th>Occupation</th>\n",
              "      <th>Phone Type</th>\n",
              "      <th>Current Bike</th>\n",
              "      <th>Relationship</th>\n",
              "      <th>Response</th>\n",
              "    </tr>\n",
              "  </thead>\n",
              "  <tbody>\n",
              "    <tr>\n",
              "      <th>0</th>\n",
              "      <td>1</td>\n",
              "      <td>53</td>\n",
              "      <td>1</td>\n",
              "      <td>0</td>\n",
              "      <td>0</td>\n",
              "      <td>1</td>\n",
              "      <td>1</td>\n",
              "      <td>0</td>\n",
              "    </tr>\n",
              "    <tr>\n",
              "      <th>1</th>\n",
              "      <td>2</td>\n",
              "      <td>27</td>\n",
              "      <td>0</td>\n",
              "      <td>1</td>\n",
              "      <td>2</td>\n",
              "      <td>4</td>\n",
              "      <td>3</td>\n",
              "      <td>1</td>\n",
              "    </tr>\n",
              "    <tr>\n",
              "      <th>2</th>\n",
              "      <td>3</td>\n",
              "      <td>39</td>\n",
              "      <td>0</td>\n",
              "      <td>3</td>\n",
              "      <td>0</td>\n",
              "      <td>1</td>\n",
              "      <td>2</td>\n",
              "      <td>0</td>\n",
              "    </tr>\n",
              "    <tr>\n",
              "      <th>3</th>\n",
              "      <td>4</td>\n",
              "      <td>20</td>\n",
              "      <td>0</td>\n",
              "      <td>3</td>\n",
              "      <td>1</td>\n",
              "      <td>4</td>\n",
              "      <td>2</td>\n",
              "      <td>0</td>\n",
              "    </tr>\n",
              "    <tr>\n",
              "      <th>4</th>\n",
              "      <td>5</td>\n",
              "      <td>29</td>\n",
              "      <td>1</td>\n",
              "      <td>2</td>\n",
              "      <td>0</td>\n",
              "      <td>1</td>\n",
              "      <td>1</td>\n",
              "      <td>1</td>\n",
              "    </tr>\n",
              "  </tbody>\n",
              "</table>\n",
              "</div>"
            ],
            "text/plain": [
              "   ID  Age  Gender  ...  Current Bike  Relationship  Response\n",
              "0   1   53       1  ...             1             1         0\n",
              "1   2   27       0  ...             4             3         1\n",
              "2   3   39       0  ...             1             2         0\n",
              "3   4   20       0  ...             4             2         0\n",
              "4   5   29       1  ...             1             1         1\n",
              "\n",
              "[5 rows x 8 columns]"
            ]
          },
          "metadata": {},
          "execution_count": 14
        }
      ]
    },
    {
      "cell_type": "code",
      "metadata": {
        "id": "pjbwvBNQkN1y"
      },
      "source": [
        "x = df.drop('Response', axis=1)"
      ],
      "execution_count": null,
      "outputs": []
    },
    {
      "cell_type": "code",
      "metadata": {
        "colab": {
          "base_uri": "https://localhost:8080/",
          "height": 206
        },
        "id": "qsRwTCJqlwF-",
        "outputId": "485eb189-27d3-45e8-8c5d-93b405027979"
      },
      "source": [
        "x.head()"
      ],
      "execution_count": null,
      "outputs": [
        {
          "output_type": "execute_result",
          "data": {
            "text/html": [
              "<div>\n",
              "<style scoped>\n",
              "    .dataframe tbody tr th:only-of-type {\n",
              "        vertical-align: middle;\n",
              "    }\n",
              "\n",
              "    .dataframe tbody tr th {\n",
              "        vertical-align: top;\n",
              "    }\n",
              "\n",
              "    .dataframe thead th {\n",
              "        text-align: right;\n",
              "    }\n",
              "</style>\n",
              "<table border=\"1\" class=\"dataframe\">\n",
              "  <thead>\n",
              "    <tr style=\"text-align: right;\">\n",
              "      <th></th>\n",
              "      <th>ID</th>\n",
              "      <th>Age</th>\n",
              "      <th>Gender</th>\n",
              "      <th>Occupation</th>\n",
              "      <th>Phone Type</th>\n",
              "      <th>Current Bike</th>\n",
              "      <th>Relationship</th>\n",
              "    </tr>\n",
              "  </thead>\n",
              "  <tbody>\n",
              "    <tr>\n",
              "      <th>0</th>\n",
              "      <td>1</td>\n",
              "      <td>53</td>\n",
              "      <td>1</td>\n",
              "      <td>0</td>\n",
              "      <td>0</td>\n",
              "      <td>1</td>\n",
              "      <td>1</td>\n",
              "    </tr>\n",
              "    <tr>\n",
              "      <th>1</th>\n",
              "      <td>2</td>\n",
              "      <td>27</td>\n",
              "      <td>0</td>\n",
              "      <td>1</td>\n",
              "      <td>2</td>\n",
              "      <td>4</td>\n",
              "      <td>3</td>\n",
              "    </tr>\n",
              "    <tr>\n",
              "      <th>2</th>\n",
              "      <td>3</td>\n",
              "      <td>39</td>\n",
              "      <td>0</td>\n",
              "      <td>3</td>\n",
              "      <td>0</td>\n",
              "      <td>1</td>\n",
              "      <td>2</td>\n",
              "    </tr>\n",
              "    <tr>\n",
              "      <th>3</th>\n",
              "      <td>4</td>\n",
              "      <td>20</td>\n",
              "      <td>0</td>\n",
              "      <td>3</td>\n",
              "      <td>1</td>\n",
              "      <td>4</td>\n",
              "      <td>2</td>\n",
              "    </tr>\n",
              "    <tr>\n",
              "      <th>4</th>\n",
              "      <td>5</td>\n",
              "      <td>29</td>\n",
              "      <td>1</td>\n",
              "      <td>2</td>\n",
              "      <td>0</td>\n",
              "      <td>1</td>\n",
              "      <td>1</td>\n",
              "    </tr>\n",
              "  </tbody>\n",
              "</table>\n",
              "</div>"
            ],
            "text/plain": [
              "   ID  Age  Gender  Occupation  Phone Type  Current Bike  Relationship\n",
              "0   1   53       1           0           0             1             1\n",
              "1   2   27       0           1           2             4             3\n",
              "2   3   39       0           3           0             1             2\n",
              "3   4   20       0           3           1             4             2\n",
              "4   5   29       1           2           0             1             1"
            ]
          },
          "metadata": {},
          "execution_count": 17
        }
      ]
    },
    {
      "cell_type": "code",
      "metadata": {
        "id": "tsR-NH-AlyAY"
      },
      "source": [
        "y = df[['Response']]"
      ],
      "execution_count": null,
      "outputs": []
    },
    {
      "cell_type": "code",
      "metadata": {
        "colab": {
          "base_uri": "https://localhost:8080/",
          "height": 206
        },
        "id": "4tKaa-Yil_zZ",
        "outputId": "49e5ff9a-92d2-45ad-b4b3-3528484ada58"
      },
      "source": [
        "y.head()"
      ],
      "execution_count": null,
      "outputs": [
        {
          "output_type": "execute_result",
          "data": {
            "text/html": [
              "<div>\n",
              "<style scoped>\n",
              "    .dataframe tbody tr th:only-of-type {\n",
              "        vertical-align: middle;\n",
              "    }\n",
              "\n",
              "    .dataframe tbody tr th {\n",
              "        vertical-align: top;\n",
              "    }\n",
              "\n",
              "    .dataframe thead th {\n",
              "        text-align: right;\n",
              "    }\n",
              "</style>\n",
              "<table border=\"1\" class=\"dataframe\">\n",
              "  <thead>\n",
              "    <tr style=\"text-align: right;\">\n",
              "      <th></th>\n",
              "      <th>Response</th>\n",
              "    </tr>\n",
              "  </thead>\n",
              "  <tbody>\n",
              "    <tr>\n",
              "      <th>0</th>\n",
              "      <td>0</td>\n",
              "    </tr>\n",
              "    <tr>\n",
              "      <th>1</th>\n",
              "      <td>1</td>\n",
              "    </tr>\n",
              "    <tr>\n",
              "      <th>2</th>\n",
              "      <td>0</td>\n",
              "    </tr>\n",
              "    <tr>\n",
              "      <th>3</th>\n",
              "      <td>0</td>\n",
              "    </tr>\n",
              "    <tr>\n",
              "      <th>4</th>\n",
              "      <td>1</td>\n",
              "    </tr>\n",
              "  </tbody>\n",
              "</table>\n",
              "</div>"
            ],
            "text/plain": [
              "   Response\n",
              "0         0\n",
              "1         1\n",
              "2         0\n",
              "3         0\n",
              "4         1"
            ]
          },
          "metadata": {},
          "execution_count": 19
        }
      ]
    },
    {
      "cell_type": "code",
      "metadata": {
        "id": "DoBgq_1DmBQt"
      },
      "source": [
        "x_train,x_test,y_train,y_test = train_test_split(x,y,random_state=40,test_size=0.2)"
      ],
      "execution_count": null,
      "outputs": []
    },
    {
      "cell_type": "code",
      "metadata": {
        "id": "TsXtzCpVmWjh"
      },
      "source": [
        "##  Deep learning  model building"
      ],
      "execution_count": null,
      "outputs": []
    },
    {
      "cell_type": "code",
      "metadata": {
        "id": "tPIM8vUm5mLM"
      },
      "source": [
        "model = Sequential([Dense(25,activation='tanh',input_shape=(7,)),\n",
        "                    Dense(50,activation='relu'),\n",
        "                    Dense(100,activation='relu'),\n",
        "                    Dense(1,activation='tanh')\n",
        "                    ])"
      ],
      "execution_count": null,
      "outputs": []
    },
    {
      "cell_type": "code",
      "metadata": {
        "colab": {
          "base_uri": "https://localhost:8080/"
        },
        "id": "_CdOTYIq7Jus",
        "outputId": "9c683f51-93db-4a62-db89-eea0a5c59a13"
      },
      "source": [
        "model.summary()"
      ],
      "execution_count": null,
      "outputs": [
        {
          "output_type": "stream",
          "name": "stdout",
          "text": [
            "Model: \"sequential_1\"\n",
            "_________________________________________________________________\n",
            " Layer (type)                Output Shape              Param #   \n",
            "=================================================================\n",
            " dense_4 (Dense)             (None, 25)                200       \n",
            "                                                                 \n",
            " dense_5 (Dense)             (None, 50)                1300      \n",
            "                                                                 \n",
            " dense_6 (Dense)             (None, 100)               5100      \n",
            "                                                                 \n",
            " dense_7 (Dense)             (None, 1)                 101       \n",
            "                                                                 \n",
            "=================================================================\n",
            "Total params: 6,701\n",
            "Trainable params: 6,701\n",
            "Non-trainable params: 0\n",
            "_________________________________________________________________\n"
          ]
        }
      ]
    },
    {
      "cell_type": "code",
      "metadata": {
        "id": "7Xq2rWOW7PIG"
      },
      "source": [
        "model.compile(optimizer='adam',loss='mse',metrics=['mae'])"
      ],
      "execution_count": null,
      "outputs": []
    },
    {
      "cell_type": "markdown",
      "metadata": {
        "id": "zsIY2ITz-RuP"
      },
      "source": []
    },
    {
      "cell_type": "code",
      "metadata": {
        "colab": {
          "base_uri": "https://localhost:8080/"
        },
        "id": "tLfnJrNr7bJL",
        "outputId": "4b670a04-facd-4bdb-ef4c-bd0f6853e8f1"
      },
      "source": [
        "history = model.fit(x_train,y_train,validation_data=(x_test,y_test), epochs=30)"
      ],
      "execution_count": null,
      "outputs": [
        {
          "output_type": "stream",
          "name": "stdout",
          "text": [
            "Epoch 1/30\n",
            "38/38 [==============================] - 1s 9ms/step - loss: 0.2071 - mae: 0.4034 - val_loss: 0.1719 - val_mae: 0.3521\n",
            "Epoch 2/30\n",
            "38/38 [==============================] - 0s 3ms/step - loss: 0.1654 - mae: 0.3469 - val_loss: 0.1643 - val_mae: 0.3381\n",
            "Epoch 3/30\n",
            "38/38 [==============================] - 0s 4ms/step - loss: 0.1585 - mae: 0.3325 - val_loss: 0.1585 - val_mae: 0.3253\n",
            "Epoch 4/30\n",
            "38/38 [==============================] - 0s 4ms/step - loss: 0.1567 - mae: 0.3241 - val_loss: 0.1643 - val_mae: 0.3173\n",
            "Epoch 5/30\n",
            "38/38 [==============================] - 0s 3ms/step - loss: 0.1593 - mae: 0.3227 - val_loss: 0.1586 - val_mae: 0.3148\n",
            "Epoch 6/30\n",
            "38/38 [==============================] - 0s 4ms/step - loss: 0.1562 - mae: 0.3182 - val_loss: 0.1586 - val_mae: 0.3108\n",
            "Epoch 7/30\n",
            "38/38 [==============================] - 0s 4ms/step - loss: 0.1568 - mae: 0.3152 - val_loss: 0.1619 - val_mae: 0.3176\n",
            "Epoch 8/30\n",
            "38/38 [==============================] - 0s 4ms/step - loss: 0.1550 - mae: 0.3123 - val_loss: 0.1542 - val_mae: 0.3205\n",
            "Epoch 9/30\n",
            "38/38 [==============================] - 0s 4ms/step - loss: 0.1576 - mae: 0.3166 - val_loss: 0.1514 - val_mae: 0.3172\n",
            "Epoch 10/30\n",
            "38/38 [==============================] - 0s 4ms/step - loss: 0.1527 - mae: 0.3155 - val_loss: 0.1742 - val_mae: 0.3534\n",
            "Epoch 11/30\n",
            "38/38 [==============================] - 0s 4ms/step - loss: 0.1563 - mae: 0.3110 - val_loss: 0.1610 - val_mae: 0.3085\n",
            "Epoch 12/30\n",
            "38/38 [==============================] - 0s 4ms/step - loss: 0.1547 - mae: 0.3098 - val_loss: 0.1589 - val_mae: 0.3131\n",
            "Epoch 13/30\n",
            "38/38 [==============================] - 0s 3ms/step - loss: 0.1591 - mae: 0.3205 - val_loss: 0.1590 - val_mae: 0.3102\n",
            "Epoch 14/30\n",
            "38/38 [==============================] - 0s 4ms/step - loss: 0.1539 - mae: 0.3132 - val_loss: 0.1575 - val_mae: 0.3139\n",
            "Epoch 15/30\n",
            "38/38 [==============================] - 0s 3ms/step - loss: 0.1547 - mae: 0.3106 - val_loss: 0.1541 - val_mae: 0.3220\n",
            "Epoch 16/30\n",
            "38/38 [==============================] - 0s 4ms/step - loss: 0.1547 - mae: 0.3139 - val_loss: 0.1549 - val_mae: 0.3344\n",
            "Epoch 17/30\n",
            "38/38 [==============================] - 0s 4ms/step - loss: 0.1555 - mae: 0.3074 - val_loss: 0.1579 - val_mae: 0.3272\n",
            "Epoch 18/30\n",
            "38/38 [==============================] - 0s 3ms/step - loss: 0.1579 - mae: 0.3237 - val_loss: 0.1686 - val_mae: 0.3110\n",
            "Epoch 19/30\n",
            "38/38 [==============================] - 0s 4ms/step - loss: 0.1525 - mae: 0.3123 - val_loss: 0.1594 - val_mae: 0.3117\n",
            "Epoch 20/30\n",
            "38/38 [==============================] - 0s 4ms/step - loss: 0.1564 - mae: 0.3033 - val_loss: 0.1588 - val_mae: 0.3182\n",
            "Epoch 21/30\n",
            "38/38 [==============================] - 0s 4ms/step - loss: 0.1549 - mae: 0.3094 - val_loss: 0.1692 - val_mae: 0.3059\n",
            "Epoch 22/30\n",
            "38/38 [==============================] - 0s 4ms/step - loss: 0.1545 - mae: 0.3123 - val_loss: 0.1614 - val_mae: 0.3201\n",
            "Epoch 23/30\n",
            "38/38 [==============================] - 0s 4ms/step - loss: 0.1508 - mae: 0.3135 - val_loss: 0.1642 - val_mae: 0.3119\n",
            "Epoch 24/30\n",
            "38/38 [==============================] - 0s 4ms/step - loss: 0.1504 - mae: 0.3042 - val_loss: 0.1598 - val_mae: 0.3217\n",
            "Epoch 25/30\n",
            "38/38 [==============================] - 0s 4ms/step - loss: 0.1503 - mae: 0.3061 - val_loss: 0.1589 - val_mae: 0.3168\n",
            "Epoch 26/30\n",
            "38/38 [==============================] - 0s 3ms/step - loss: 0.1504 - mae: 0.3069 - val_loss: 0.1728 - val_mae: 0.3054\n",
            "Epoch 27/30\n",
            "38/38 [==============================] - 0s 4ms/step - loss: 0.1567 - mae: 0.3082 - val_loss: 0.1715 - val_mae: 0.3104\n",
            "Epoch 28/30\n",
            "38/38 [==============================] - 0s 3ms/step - loss: 0.1547 - mae: 0.3142 - val_loss: 0.1591 - val_mae: 0.3287\n",
            "Epoch 29/30\n",
            "38/38 [==============================] - 0s 3ms/step - loss: 0.1523 - mae: 0.3089 - val_loss: 0.1616 - val_mae: 0.3164\n",
            "Epoch 30/30\n",
            "38/38 [==============================] - 0s 3ms/step - loss: 0.1558 - mae: 0.3109 - val_loss: 0.1627 - val_mae: 0.3290\n"
          ]
        }
      ]
    },
    {
      "cell_type": "code",
      "metadata": {
        "colab": {
          "base_uri": "https://localhost:8080/",
          "height": 312
        },
        "id": "fvsONpzt7gFH",
        "outputId": "98cef947-1af4-4166-8e87-b479cc8910dc"
      },
      "source": [
        "plt.plot(history.history['mae'])\n",
        "plt.plot(history.history['val_mae'])\n",
        "plt.xlabel('epoch')\n",
        "plt.ylabel('mae')\n",
        "plt.title('mae_plot')\n",
        "plt.legend(['training curve', 'testing curve'])\n"
      ],
      "execution_count": null,
      "outputs": [
        {
          "output_type": "execute_result",
          "data": {
            "text/plain": [
              "<matplotlib.legend.Legend at 0x7f6794336cd0>"
            ]
          },
          "metadata": {},
          "execution_count": 36
        },
        {
          "output_type": "display_data",
          "data": {
            "image/png": "[encoded data removed]",
            "text/plain": [
              "<Figure size 432x288 with 1 Axes>"
            ]
          },
          "metadata": {
            "needs_background": "light"
          }
        }
      ]
    },
    {
      "cell_type": "code",
      "metadata": {
        "colab": {
          "base_uri": "https://localhost:8080/",
          "height": 312
        },
        "id": "yQ0a6rzw_ApG",
        "outputId": "85fe18be-4044-4851-c563-f0e1c31ea0e1"
      },
      "source": [
        "plt.plot(history.history['loss'])\n",
        "plt.plot(history.history['val_loss'])\n",
        "plt.xlabel('epoch')\n",
        "plt.ylabel('loss')\n",
        "plt.title('loss_plot')\n",
        "plt.legend(['training curve','testing curve'])"
      ],
      "execution_count": null,
      "outputs": [
        {
          "output_type": "execute_result",
          "data": {
            "text/plain": [
              "<matplotlib.legend.Legend at 0x7f67a0035550>"
            ]
          },
          "metadata": {},
          "execution_count": 38
        },
        {
          "output_type": "display_data",
          "data": {
            "image/png": "[encoded data removed]",
            "text/plain": [
              "<Figure size 432x288 with 1 Axes>"
            ]
          },
          "metadata": {
            "needs_background": "light"
          }
        }
      ]
    },
    {
      "cell_type": "code",
      "metadata": {
        "id": "wmytZdpIA84d"
      },
      "source": [],
      "execution_count": null,
      "outputs": []
    }
  ]
}